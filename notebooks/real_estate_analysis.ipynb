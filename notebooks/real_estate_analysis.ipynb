{
 "cells": [
  {
   "cell_type": "markdown",
   "metadata": {},
   "source": [
    "# Real Estate Price Analysis\n",
    "\n",
    "The real estate dataset used in this assignment contains historical data from certain real estate markets between June 2012 and May 2013. \n",
    "\n",
    "It is related to two districts in Taipei City and two districts in New Taipei City. \n",
    "\n",
    "<br>\n",
    "\n",
    "The dataset is composed of 414 records of property sales and the features describe certain aspects of the properties sold. This data is sourced from the UCI machine learning webpage, where this another other datasets are [publicly accessible](https://archive.ics.uci.edu/ml/datasets/Real+estate+valuation+data+set)\n",
    "\n",
    "The following table provides a summary of each feature in the dataset: "
   ]
  },
  {
   "cell_type": "markdown",
   "metadata": {},
   "source": [
    "KATE expects your code to define variables with specific names that correspond to certain things we are interested in.\n",
    "\n",
    "KATE will run your notebook from top to bottom and check the latest value of those variables, so make sure you don't overwrite them.\n",
    "\n",
    "* Remember to uncomment the line assigning the variable to your answer and don't change the variable or function names.\n",
    "* Use copies of the original or previous DataFrames to make sure you do not overwrite them by mistake.\n",
    "\n",
    "You will find instructions below about how to define each variable.\n",
    "\n",
    "Once you're happy with your code, upload your notebook to KATE to check your feedback."
   ]
  },
  {
   "cell_type": "markdown",
   "metadata": {},
   "source": [
    "\n",
    "| Variable  | Meaning | Type |\n",
    "| ------------- | ------------- | ------------- |\n",
    "| X1 Transaction Date|  Month in which the transaction has happened starting counting from the first month of the dataset |  for example 2013.250=2013 March |\n",
    "| X2 house age | The house age  | Unit (year) |\n",
    "| X3 distance to the nearest MRT station | The distance to the nearet MRT station | Numerical (meters) |\n",
    "| X4 number of convenience stores | The number of convenience stores in the living circle on foot | Numerical (integer) | \n",
    "| X5 latitude | The geographic coordinate, latitude | numerical (degree)| \n",
    "| X6 longitude | The geographic coordinate, longitude | numerical (degree) | \n",
    "| Y house price of unit area | Output variable, house price of unit area | numerical (10000 New Taiwan Dolla/Ping, where Ping is a local unit, 1 Ping = 3.3 meter squared)"
   ]
  },
  {
   "cell_type": "markdown",
   "metadata": {},
   "source": [
    "Having inspected what the features mean, let's begin by importing the libaries needed for this assignment:"
   ]
  },
  {
   "cell_type": "code",
   "execution_count": 1,
   "metadata": {},
   "outputs": [],
   "source": [
    "import pandas as pd\n",
    "import seaborn as sns \n",
    "import matplotlib.pyplot as plt"
   ]
  },
  {
   "cell_type": "markdown",
   "metadata": {},
   "source": [
    "## Load the dataset\n",
    "\n",
    "With these libaries, in particular `pandas`, let's load the `real_estate_valuation_data_set.csv` file, which is located in a folder called `data`, into a DataFrame named `df` using the following code:"
   ]
  },
  {
   "cell_type": "code",
   "execution_count": 2,
   "metadata": {},
   "outputs": [
    {
     "data": {
      "text/html": [
       "<div>\n",
       "<style scoped>\n",
       "    .dataframe tbody tr th:only-of-type {\n",
       "        vertical-align: middle;\n",
       "    }\n",
       "\n",
       "    .dataframe tbody tr th {\n",
       "        vertical-align: top;\n",
       "    }\n",
       "\n",
       "    .dataframe thead th {\n",
       "        text-align: right;\n",
       "    }\n",
       "</style>\n",
       "<table border=\"1\" class=\"dataframe\">\n",
       "  <thead>\n",
       "    <tr style=\"text-align: right;\">\n",
       "      <th></th>\n",
       "      <th>X1 transaction date</th>\n",
       "      <th>X2 house age</th>\n",
       "      <th>X3 distance to the nearest MRT station</th>\n",
       "      <th>X4 number of convenience stores</th>\n",
       "      <th>X5 latitude</th>\n",
       "      <th>X6 longitude</th>\n",
       "      <th>Y house price of unit area</th>\n",
       "    </tr>\n",
       "  </thead>\n",
       "  <tbody>\n",
       "    <tr>\n",
       "      <th>0</th>\n",
       "      <td>2012.917</td>\n",
       "      <td>32.0</td>\n",
       "      <td>84.87882</td>\n",
       "      <td>10</td>\n",
       "      <td>24.98298</td>\n",
       "      <td>121.54024</td>\n",
       "      <td>37.9</td>\n",
       "    </tr>\n",
       "    <tr>\n",
       "      <th>1</th>\n",
       "      <td>2012.917</td>\n",
       "      <td>19.5</td>\n",
       "      <td>306.59470</td>\n",
       "      <td>9</td>\n",
       "      <td>24.98034</td>\n",
       "      <td>121.53951</td>\n",
       "      <td>42.2</td>\n",
       "    </tr>\n",
       "    <tr>\n",
       "      <th>2</th>\n",
       "      <td>2013.583</td>\n",
       "      <td>13.3</td>\n",
       "      <td>561.98450</td>\n",
       "      <td>5</td>\n",
       "      <td>24.98746</td>\n",
       "      <td>121.54391</td>\n",
       "      <td>47.3</td>\n",
       "    </tr>\n",
       "    <tr>\n",
       "      <th>3</th>\n",
       "      <td>2013.500</td>\n",
       "      <td>13.3</td>\n",
       "      <td>561.98450</td>\n",
       "      <td>5</td>\n",
       "      <td>24.98746</td>\n",
       "      <td>121.54391</td>\n",
       "      <td>54.8</td>\n",
       "    </tr>\n",
       "    <tr>\n",
       "      <th>4</th>\n",
       "      <td>2012.833</td>\n",
       "      <td>5.0</td>\n",
       "      <td>390.56840</td>\n",
       "      <td>5</td>\n",
       "      <td>24.97937</td>\n",
       "      <td>121.54245</td>\n",
       "      <td>43.1</td>\n",
       "    </tr>\n",
       "  </tbody>\n",
       "</table>\n",
       "</div>"
      ],
      "text/plain": [
       "   X1 transaction date  X2 house age  X3 distance to the nearest MRT station  \\\n",
       "0             2012.917          32.0                                84.87882   \n",
       "1             2012.917          19.5                               306.59470   \n",
       "2             2013.583          13.3                               561.98450   \n",
       "3             2013.500          13.3                               561.98450   \n",
       "4             2012.833           5.0                               390.56840   \n",
       "\n",
       "   X4 number of convenience stores  X5 latitude  X6 longitude  \\\n",
       "0                               10     24.98298     121.54024   \n",
       "1                                9     24.98034     121.53951   \n",
       "2                                5     24.98746     121.54391   \n",
       "3                                5     24.98746     121.54391   \n",
       "4                                5     24.97937     121.54245   \n",
       "\n",
       "   Y house price of unit area  \n",
       "0                        37.9  \n",
       "1                        42.2  \n",
       "2                        47.3  \n",
       "3                        54.8  \n",
       "4                        43.1  "
      ]
     },
     "execution_count": 2,
     "metadata": {},
     "output_type": "execute_result"
    }
   ],
   "source": [
    "df = pd.read_csv('data/real_estate_valuation_data_set.csv')\n",
    "df.head()"
   ]
  },
  {
   "cell_type": "markdown",
   "metadata": {},
   "source": [
    "## Dataset Preprocessing \n",
    "\n",
    "Before proceeding to the analysis, let's first do some preprocessing to clean our data and get a better sense of what it looks like.\n",
    "\n",
    "<br>\n",
    "\n",
    "**1. Print the format of your dataframe (number of rows, columns) and, store whether or not the dataframe contains any missing values in a variable called `values_missing`.**\n",
    "\n",
    "Note that `values_missing` should be a Boolean.\n",
    "\n",
    "*Hint: you can use two `pandas` methods, [`.isna()`](https://pandas.pydata.org/pandas-docs/stable/reference/api/pandas.DataFrame.isna.html) and [`.any()`](https://pandas.pydata.org/pandas-docs/stable/reference/api/pandas.DataFrame.any.html) applied to your dataframe to get this information.*"
   ]
  },
  {
   "cell_type": "code",
   "execution_count": 3,
   "metadata": {},
   "outputs": [
    {
     "name": "stdout",
     "output_type": "stream",
     "text": [
      "<class 'pandas.core.frame.DataFrame'>\n",
      "RangeIndex: 414 entries, 0 to 413\n",
      "Data columns (total 7 columns):\n",
      " #   Column                                  Non-Null Count  Dtype  \n",
      "---  ------                                  --------------  -----  \n",
      " 0   X1 transaction date                     414 non-null    float64\n",
      " 1   X2 house age                            414 non-null    float64\n",
      " 2   X3 distance to the nearest MRT station  414 non-null    float64\n",
      " 3   X4 number of convenience stores         414 non-null    int64  \n",
      " 4   X5 latitude                             414 non-null    float64\n",
      " 5   X6 longitude                            414 non-null    float64\n",
      " 6   Y house price of unit area              414 non-null    float64\n",
      "dtypes: float64(6), int64(1)\n",
      "memory usage: 22.8 KB\n"
     ]
    }
   ],
   "source": [
    "# Your code here \n",
    "df.info()\n",
    "values_missing = df.isna().any().any()\n"
   ]
  },
  {
   "cell_type": "markdown",
   "metadata": {},
   "source": [
    "**2. Remove the first column `X1 transaction date`from the dataset and save the newly created dataset into a new variable `df_new`.**\n",
    "\n",
    "You should also use the `.copy()` method when creating `df_new`."
   ]
  },
  {
   "cell_type": "code",
   "execution_count": 4,
   "metadata": {},
   "outputs": [],
   "source": [
    "# Your code here\n",
    "df_new = df.drop('X1 transaction date', axis=1).copy()\n"
   ]
  },
  {
   "cell_type": "markdown",
   "metadata": {},
   "source": [
    "**3.  Plot a histogram of the target variable `Y house price of unit area`.**\n",
    "\n",
    "This is an important preliminary step to help us understand the distribution of the target variable. For example you can see if it resembles a normal distribution, or if it is skewed in some way, and adjust your model accordingly.\n",
    "\n",
    "Assign the output to a variable called `hist_y`.\n",
    "\n",
    "*Hint: use the `.hist()` method on a `pandas` `Series`*"
   ]
  },
  {
   "cell_type": "code",
   "execution_count": 5,
   "metadata": {},
   "outputs": [
    {
     "data": {
      "image/png": "[encoded data removed]",
      "text/plain": [
       "<Figure size 640x480 with 1 Axes>"
      ]
     },
     "metadata": {},
     "output_type": "display_data"
    }
   ],
   "source": [
    "# Create the histogram directly using the pandas .hist() method\n",
    "hist_y = df_new['Y house price of unit area'].hist(color='blue', alpha=0.7)\n",
    "\n",
    "# Add labels and title\n",
    "plt.xlabel('House Price of Unit Area')\n",
    "plt.ylabel('Count')\n",
    "plt.title('Distribution of House Price of Unit Area')\n",
    "\n",
    "# Display the plot\n",
    "plt.show()\n"
   ]
  },
  {
   "cell_type": "markdown",
   "metadata": {},
   "source": [
    "**4. Plot histograms of all of the remaining input variables in your dataframe.**\n",
    "\n",
    "Note that we have already dropped the `X1 transaction date` variable, which leaves us with five variables (`X2` through `X6`).\n",
    "\n",
    "<br>\n",
    "\n",
    "To create these plots:\n",
    "  - Use the `fig, ax = plt.subplots(figsize=(10,25), dpi=50)` to create your figure and axes\n",
    "  - Filter down `df_new` to the relevant columns and call `.hist()` passing in:\n",
    "     - `ax=ax`\n",
    "     - `layout=(5,1)`\n",
    "     - and the column names, ordered from `X2` to `X6`\n",
    "\n",
    "Assign the output of `.hist()` to a variable called `hist_per_input`."
   ]
  },
  {
   "cell_type": "code",
   "execution_count": 6,
   "metadata": {},
   "outputs": [
    {
     "name": "stderr",
     "output_type": "stream",
     "text": [
      "/tmp/ipykernel_165/3189167502.py:6: UserWarning: To output multiple subplots, the figure containing the passed axes is being cleared.\n",
      "  'X4 number of convenience stores', 'X5 latitude', 'X6 longitude']].hist(\n"
     ]
    },
    {
     "data": {
      "image/png": "[encoded data removed]",
      "text/plain": [
       "<Figure size 500x1250 with 5 Axes>"
      ]
     },
     "metadata": {},
     "output_type": "display_data"
    }
   ],
   "source": [
    "# We create a new figure to make sure other figures in the notebook don't get modified\n",
    "fig, ax = plt.subplots(figsize=(10, 25), dpi=50)\n",
    "\n",
    "# Filter down to the relevant columns and plot histograms\n",
    "hist_per_input = df_new[['X2 house age', 'X3 distance to the nearest MRT station',\n",
    "                         'X4 number of convenience stores', 'X5 latitude', 'X6 longitude']].hist(\n",
    "    ax=ax, layout=(5, 1), color='blue', alpha=0.7\n",
    ")"
   ]
  },
  {
   "cell_type": "markdown",
   "metadata": {},
   "source": [
    "**5. Obtain the mean and median of the variable outcome `Y house price of unit area`.**\n",
    "\n",
    "Store the results in variables called `mean` and `median`. \n"
   ]
  },
  {
   "cell_type": "code",
   "execution_count": 7,
   "metadata": {},
   "outputs": [],
   "source": [
    "# Your code here\n",
    "house_price_mean = df_new['Y house price of unit area'].mean()\n",
    "house_price_median = df_new['Y house price of unit area'].median()\n"
   ]
  },
  {
   "cell_type": "markdown",
   "metadata": {},
   "source": [
    "**6. Scale all the dataframe columns but `Y house price of unit area`, that is our output. For scaling use the min-max normalization. Save the newly scaled dataframe into a new dataframe named `df_new_scaled`.**\n",
    "\n",
    "The min max scaling formula (considering you want to scale between 0 and 1) is as follows: \n",
    "\n",
    "```Python\n",
    "df_new_scaled = (originalDataframe - min_val_originalDF) / (max_val_originalDF - min_val_originalDF) \n",
    "```"
   ]
  },
  {
   "cell_type": "code",
   "execution_count": 8,
   "metadata": {},
   "outputs": [],
   "source": [
    "# Your code here\n",
    "# Scale all columns except 'Y house price of unit area'\n",
    "columns_to_scale = ['X2 house age', 'X3 distance to the nearest MRT station',\n",
    "                    'X4 number of convenience stores', 'X5 latitude', 'X6 longitude']\n",
    "\n",
    "df_new_scaled = df_new.copy()\n",
    "df_new_scaled[columns_to_scale] = (df_new[columns_to_scale] - df_new[columns_to_scale].min()) / \\\n",
    "                                  (df_new[columns_to_scale].max() - df_new[columns_to_scale].min())"
   ]
  },
  {
   "cell_type": "markdown",
   "metadata": {},
   "source": [
    "## Fitting a linear regression model"
   ]
  },
  {
   "cell_type": "markdown",
   "metadata": {},
   "source": [
    "**7. Create a linear regression model and fit it to your data.**\n",
    "\n",
    "First, create two variables: `X1` and `y1` whcih contain the input features and target variable, respectively.\n",
    "\n",
    "Next, create linear regression model called `reg1` and fit it on `X1` and `y1`\n",
    "\n",
    "*Hint: use the `sklearn.linear_model import LinearRegression` to perform linear regression.*"
   ]
  },
  {
   "cell_type": "code",
   "execution_count": 9,
   "metadata": {},
   "outputs": [],
   "source": [
    "from sklearn.linear_model import LinearRegression\n",
    "\n",
    "# Your code here\n",
    "\n",
    "X1 = df_new_scaled[columns_to_scale]\n",
    "y1 = df_new['Y house price of unit area']\n",
    "reg1 = LinearRegression().fit(X1, y1)\n"
   ]
  },
  {
   "cell_type": "markdown",
   "metadata": {},
   "source": [
    "**8. Print the value of the $R^2$ coefficient of the fitted linear regression and save it in a variable `reg1_R2`.**\n",
    "\n",
    "The $R^2$ (pronounced \"r-squared\") coefficient is useful to understand how well your model has worked: the closer to 1, the better your model has worked!\n",
    "\n",
    "To calculate the $R^2$, you can use the [`.score()`](https://scikit-learn.org/stable/modules/generated/sklearn.linear_model.LinearRegression.html) method.\n",
    "\n",
    "Store the coefficient in a variable called `reg1_R2`. "
   ]
  },
  {
   "cell_type": "code",
   "execution_count": 10,
   "metadata": {},
   "outputs": [],
   "source": [
    "# Your code here\n",
    "reg1_R2 = reg1.score(X1, y1)\n"
   ]
  },
  {
   "cell_type": "markdown",
   "metadata": {},
   "source": [
    "**9. Store the coefficients of the regression model `reg1` in a variable called `coefficients`**\n",
    "\n",
    "Think about what this implies: \n",
    " - Which features have a positive relationship with `Y house price of unit area`? \n",
    " - Which ones are negative?"
   ]
  },
  {
   "cell_type": "code",
   "execution_count": 11,
   "metadata": {},
   "outputs": [
    {
     "data": {
      "text/plain": [
       "array([-11.77855728, -27.53346917,  11.63020477,  19.6205486 ,\n",
       "        -0.72387769])"
      ]
     },
     "execution_count": 11,
     "metadata": {},
     "output_type": "execute_result"
    }
   ],
   "source": [
    "# Your code here\n",
    "coefficients = reg1.coef_\n",
    "coefficients\n"
   ]
  },
  {
   "cell_type": "markdown",
   "metadata": {},
   "source": [
    "**10. Now create a new linear regression model using only the variables: `X2 house age`, `X5 latitude`,  and `X6 longitude`. Save the model in a variable called `reg2` and fit it to your new data.**\n",
    "\n",
    "Before calling `.fit()` you should create two new dataframes for this new model:\n",
    " - `X2` which contains the input variables of interest\n",
    " - `y2` which contains the target variable"
   ]
  },
  {
   "cell_type": "code",
   "execution_count": 12,
   "metadata": {},
   "outputs": [],
   "source": [
    "# Your code here\n",
    "# X2 = df_new_scaled[['X2 house age', 'X5 latitude','X6 longitude']]\n",
    "\n",
    "X2 = df_new_scaled[['X2 house age', 'X5 latitude','X6 longitude']]\n",
    "y2 = df_new_scaled['Y house price of unit area']\n",
    "reg2 = LinearRegression().fit(X2, y2)\n"
   ]
  },
  {
   "cell_type": "markdown",
   "metadata": {},
   "source": [
    "**11. Now calculate the $R^2$ score for your new model.**\n",
    "\n",
    "Store the score in a variable called `reg2_R2`.\n",
    "\n",
    "Which model works best?"
   ]
  },
  {
   "cell_type": "code",
   "execution_count": 13,
   "metadata": {},
   "outputs": [],
   "source": [
    "# Your code here\n",
    "reg2_R2 = reg2.score(X2, y2)\n"
   ]
  },
  {
   "cell_type": "markdown",
   "metadata": {},
   "source": [
    "**12. Divide the dataset into train and test set.**\n",
    "\n",
    "Use the `train_test_split` from the `sklearn.model_selection` package to split the `df_new_scaled` dataframe into $4$ subsets: \n",
    " - `X_train`\n",
    " - `X_test`\n",
    " - `y_train`\n",
    " - `y_test`\n",
    "\n",
    "In doing so, specify the test size to be `0.25` and set the `random_state=101` for reproducibility."
   ]
  },
  {
   "cell_type": "code",
   "execution_count": 15,
   "metadata": {},
   "outputs": [],
   "source": [
    "from sklearn.model_selection import train_test_split\n",
    "X2 = df_new_scaled[['X2 house age', 'X3 distance to the nearest MRT station',\n",
    "                    'X4 number of convenience stores', 'X5 latitude', 'X6 longitude']]\n",
    "\n",
    "X_train, X_test, y_train, y_test = train_test_split(X2, y2, test_size=0.25, random_state=101)\n"
   ]
  },
  {
   "cell_type": "markdown",
   "metadata": {},
   "source": [
    "**13. Create and fit a linear regression model to the training set, using all of the variables to predict `Y house price of unit area`.**  \n",
    "\n",
    "Assign your model to a variable called `reg3`.\n",
    "\n",
    "*Hint: use the `.fit()` method.*"
   ]
  },
  {
   "cell_type": "markdown",
   "metadata": {},
   "source": [
    "**14. Use the model to generate predictions on `X_test`.**\n",
    "\n",
    "Save the predicted variables into a variable called `y_pred` "
   ]
  },
  {
   "cell_type": "code",
   "execution_count": 16,
   "metadata": {},
   "outputs": [],
   "source": [
    "# Your code here\n",
    "reg3 = LinearRegression().fit(X_train, y_train)"
   ]
  },
  {
   "cell_type": "code",
   "execution_count": 17,
   "metadata": {},
   "outputs": [],
   "source": [
    "# Your code here\n",
    "# reg3 = LinearRegression().fit(X_train, y_train)\n",
    "y_pred = reg3.predict(X_test)\n"
   ]
  },
  {
   "cell_type": "code",
   "execution_count": 18,
   "metadata": {},
   "outputs": [],
   "source": [
    "import pickle\n",
    "pickled = pickle.dumps(y_pred, 0)"
   ]
  },
  {
   "cell_type": "code",
   "execution_count": 19,
   "metadata": {},
   "outputs": [
    {
     "data": {
      "text/plain": [
       "b'cnumpy.core.multiarray\\n_reconstruct\\np0\\n(cnumpy\\nndarray\\np1\\n(I0\\ntp2\\nc_codecs\\nencode\\np3\\n(Vb\\np4\\nVlatin1\\np5\\ntp6\\nRp7\\ntp8\\nRp9\\n(I1\\n(I104\\ntp10\\ncnumpy\\ndtype\\np11\\n(Vf8\\np12\\nI00\\nI01\\ntp13\\nRp14\\n(I3\\nV<\\np15\\nNNNI-1\\nI-1\\nI0\\ntp16\\nbI00\\ng3\\n(V\\xfb\\xba1\\xa2\\xe1\\xff0@\\xf69\\xf8\\x8f\\xa3\\x17(@bg\\xf36\\xfb\\xf4F@}HrI\\x80\\xf5D@^\\\\u000d/\\xa5-\\xb2D@C\\xf7\\x9e\\x89=\\xd9D@\\xb2;\\x91\\xd1\\xd7{A@c\\x8c\\xe4\\xf7\\xb3\\xa2D@\\xff\\xb0r\\x9eR\\x01H@\\x8f\\x1f\\x90p\\xd1\\xb2A@\\xc8\\xe8t^\\x0f\\xb2G@[\\xa3\\x07\\xb3:}D@\\x80\\xc0\\x86V\\xb6\\x1eD@\\x9c\\xfa\\xeay_$I@O\\xe9k\\xb1\\x8bpE@L\\xcb\\xaa\\x07?4E@\\x9b\\xba\\xcd\\xd2\\xd6\\xb7D@\\'\\xa7\\xc7\\x9b\\x85\\xe2C@u9*f\\x9dKH@\\x94\\x19\\\\u0000\\xdcJqH@BX\\xd83\\xd2\\x0cD@&&\\x1f\\x9ez\\xb7G@\\xfd\\xe7&\\xb53XH@\\xa0\\xa4\\xd5\\xe2}q@@f\\xfd\\x7f\\xcbJ\\x1d=@7\\x1b:\\xbcI\\xa4F@\\xbc\\xf6\\x91\\x87\\xc0zA@j\\xca\\xcf\\xe8\\xfe%E@m\\x18)2G\\xe7D@qp\\xb2!\\x8b\\x10G@v#\\xbfj\\x16\\x9fG@Kea\\xdbm\\xbcC@\\xb7\\xda\\xaeO.\\x83C@Na\\xedt\\x9foE@\\x8a1\\xfb;\\xef\\x08I@\\xc0Q\\xdds\\xdf(\"@7n\\xa3\\xef\\x87\\x17D@(\\xebb\\xe8\\xe3\\xaeB@\\xed\\xad\\xf7k\\xa7\\\\u000a\"@j\\xa8\\xca\\x8c\\xc5\\xa4H@[\\x94\\x1c\\xe7\\xb2\\xe6C@\\xe5\\x9b\\xe4js\\xa9D@\\x8bI?\\x18\\xa5u8@%\\x18y\\x99>\\xb0C@\\xe8\\xa5\\x8c6\\xcatF@94\\xbc\\xf7cjF@\\x91\\xd6\\xf45O\\x83E@Z\\xed$\\x84A\\xc0@@YO\\xc9j\\x07\\xb0D@0!lV>NB@\\x91\\x1d\\xba\\x99\\xb4eF@\\xecyr\\x8f\\xe4\\x10C@m*u\\xd5\\xc3\\xa5C@\\xfa{\\\\u000d\\xb4\\xf5\\x8e0@C-\\xc5\\xaa\\xf1QA@\\x95R\\x82%\\x1f\\xc1I@fS\\xcf\\xad\\x9d\\x1cE@Z\\x91!\\x94KQE@9\\x9c(\"P\\xa4G@`3\\x8f\\x07#\\xf8B@(\\xe5\\xdfK?\\x88A@\\x99{%W(\\x8fF@\\xdcGk\\xd8\\x18\\xb1C@$\\\\u000a\\xb9\\xdd\\xbc\\xe1B@\\xf7[\\x13)z\\x97G@k\\x0e\\xd1j\\xd3\\xf5C@\\x8c\\x1d\\x19\\x82|XA@G\\xe6\"tn\\xecH@\\xd1\\x03\\xa0\\x1b\\xd0c<@&nDO\\x93\\xabB@\\xcf\\xb2K\\x03\\x9a$D@\\x8fi\\xd4\\xa6\\x99\\xbbF@\\xb0(\\xb9K\\xa4\\xce/@\\x94m\\xd1\\xcdbA@@(\\xba\\x03\\xa2e\\x930@\\x84\\xd7\\xb5\\x9e2\\xd4B@\\x99\\xb6\\x05\\xe3s\\x88>@\\xf9\\xca?\\x7f\\x06\\xeeC@\\xaf\\xa7\\x0c\\xfd\\xdc;C@N\\xd9>h+\\xd3*@\\xbf\\xc7D\\xbd\\xc4\\xf0D@\\xea\\xc3\\x12\\x96\\\\u000d\\xb8E@m*u\\xd5\\xc3\\xa5C@\\xaaN\\xa7Dz\\xf69@G7Awv\\xefH@\\x12^\\x1ej9\\x960@\\x19\\xb9\\xd4\\xcc\\x9b=@@\\x14\\xa2i\\'P`A@\\xe4Fv[\\x991D@%\\x16\\x8d\\x9a\\x0f\\xd0/@2\\x07M\\xd1]hC@\\xa5\\xb7\\x0c\\xf2\\xac#@@hl\\xe7A\\x99\\x1fI@9\\xb05\\x96\\xed\\x828@\\x19ct<\\xa5gD@\\x14Vy\\x82\\xc78E@\\x13\\xb8e\\xd6\\x19,G@c7b\\xa35\\x14H@\\xf3\\x9d\\xe3p\\x95\\x92F@\\xca\\x1d)\"\\xec$B@s\\x8dn+\\xc9\\xd7I@F*\\x01g\\x80m;@$\\xd1\\xcf!J\\xaeB@\\xe7^;\\x1f/\\xf0C@\\np17\\ng5\\ntp18\\nRp19\\ntp20\\nb.'"
      ]
     },
     "execution_count": 19,
     "metadata": {},
     "output_type": "execute_result"
    }
   ],
   "source": [
    "pickled"
   ]
  },
  {
   "cell_type": "markdown",
   "metadata": {},
   "source": [
    "Once you have generated these predictions, uncomment the cell below to check out the accuracy score of your model. \n",
    "\n",
    "Think about what this metric [means](https://scikit-learn.org/stable/modules/generated/sklearn.metrics.mean_squared_error.html). \n",
    "  - Is this a good model? \n",
    "  - Is mean squared error a good metric? \n",
    "  - How does this compare to $R^2$?"
   ]
  },
  {
   "cell_type": "code",
   "execution_count": 20,
   "metadata": {},
   "outputs": [
    {
     "data": {
      "text/plain": [
       "76.79718098396668"
      ]
     },
     "execution_count": 20,
     "metadata": {},
     "output_type": "execute_result"
    }
   ],
   "source": [
    "from sklearn.metrics import mean_squared_error\n",
    "mean_squared_error(y_pred, y_test)"
   ]
  },
  {
   "cell_type": "code",
   "execution_count": null,
   "metadata": {},
   "outputs": [],
   "source": []
  }
 ],
 "metadata": {
  "kernelspec": {
   "display_name": "Python 3 (ipykernel)",
   "language": "python",
   "name": "python3"
  },
  "language_info": {
   "codemirror_mode": {
    "name": "ipython",
    "version": 3
   },
   "file_extension": ".py",
   "mimetype": "text/x-python",
   "name": "python",
   "nbconvert_exporter": "python",
   "pygments_lexer": "ipython3",
   "version": "3.11.13"
  }
 },
 "nbformat": 4,
 "nbformat_minor": 2
}
